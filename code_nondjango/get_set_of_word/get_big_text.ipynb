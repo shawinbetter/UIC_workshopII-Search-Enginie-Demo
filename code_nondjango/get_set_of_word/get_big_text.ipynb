{
 "cells": [
  {
   "cell_type": "code",
   "execution_count": 1,
   "metadata": {
    "ExecuteTime": {
     "end_time": "2019-11-20T03:10:58.760620Z",
     "start_time": "2019-11-20T03:10:15.489012Z"
    }
   },
   "outputs": [],
   "source": [
    "import os\n",
    "import re\n",
    "path1 = \"C:/Users/94883/Desktop/Workshop/text\"\n",
    "files= os.listdir(path1)\n",
    "big_text = set()\n",
    "for file in files:\n",
    "   f = open(\"C:/Users/94883/Desktop/Workshop/text/\"+file)\n",
    "   try:\n",
    "       s = set(re.findall(r'[a-zA-Z]+',f.read().lower()))#find all the words in the txt file we collect\n",
    "       big_text = set.union(big_text,s)\n",
    "       f.close()\n",
    "   except:\n",
    "       f.close()\n",
    "    continue"
   ]
  },
  {
   "cell_type": "code",
   "execution_count": 54,
   "metadata": {
    "ExecuteTime": {
     "end_time": "2019-11-13T13:21:47.357983Z",
     "start_time": "2019-11-13T13:21:46.682389Z"
    }
   },
   "outputs": [],
   "source": [
    "str = \"\"\n",
    "for i in big_text:\n",
    "    str += i\n",
    "    str += \" \""
   ]
  },
  {
   "cell_type": "code",
   "execution_count": 56,
   "metadata": {
    "ExecuteTime": {
     "end_time": "2019-11-13T13:22:32.624042Z",
     "start_time": "2019-11-13T13:22:32.609048Z"
    }
   },
   "outputs": [],
   "source": [
    "text_file = open(\"big.txt\", \"w\")#write to the big txt\n",
    "text_file.write(str)\n",
    "text_file.close()"
   ]
  }
 ],
 "metadata": {
  "kernelspec": {
   "display_name": "Python 3",
   "language": "python",
   "name": "python3"
  },
  "language_info": {
   "codemirror_mode": {
    "name": "ipython",
    "version": 3
   },
   "file_extension": ".py",
   "mimetype": "text/x-python",
   "name": "python",
   "nbconvert_exporter": "python",
   "pygments_lexer": "ipython3",
   "version": "3.7.2"
  },
  "latex_envs": {
   "LaTeX_envs_menu_present": true,
   "autoclose": false,
   "autocomplete": true,
   "bibliofile": "biblio.bib",
   "cite_by": "apalike",
   "current_citInitial": 1,
   "eqLabelWithNumbers": true,
   "eqNumInitial": 1,
   "hotkeys": {
    "equation": "Ctrl-E",
    "itemize": "Ctrl-I"
   },
   "labels_anchors": false,
   "latex_user_defs": false,
   "report_style_numbering": false,
   "user_envs_cfg": false
  },
  "nbTranslate": {
   "displayLangs": [
    "*"
   ],
   "hotkey": "alt-t",
   "langInMainMenu": true,
   "sourceLang": "en",
   "targetLang": "fr",
   "useGoogleTranslate": true
  },
  "toc": {
   "base_numbering": 1,
   "nav_menu": {},
   "number_sections": true,
   "sideBar": true,
   "skip_h1_title": false,
   "title_cell": "Table of Contents",
   "title_sidebar": "Contents",
   "toc_cell": false,
   "toc_position": {},
   "toc_section_display": true,
   "toc_window_display": false
  },
  "varInspector": {
   "cols": {
    "lenName": 16,
    "lenType": 16,
    "lenVar": 40
   },
   "kernels_config": {
    "python": {
     "delete_cmd_postfix": "",
     "delete_cmd_prefix": "del ",
     "library": "var_list.py",
     "varRefreshCmd": "print(var_dic_list())"
    },
    "r": {
     "delete_cmd_postfix": ") ",
     "delete_cmd_prefix": "rm(",
     "library": "var_list.r",
     "varRefreshCmd": "cat(var_dic_list()) "
    }
   },
   "types_to_exclude": [
    "module",
    "function",
    "builtin_function_or_method",
    "instance",
    "_Feature"
   ],
   "window_display": false
  }
 },
 "nbformat": 4,
 "nbformat_minor": 2
}

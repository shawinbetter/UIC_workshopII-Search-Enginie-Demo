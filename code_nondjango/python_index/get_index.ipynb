{
 "cells": [
  {
   "cell_type": "markdown",
   "metadata": {},
   "source": [
    "BIG FILES N=649"
   ]
  },
  {
   "cell_type": "code",
   "execution_count": null,
   "metadata": {
    "ExecuteTime": {
     "end_time": "2019-11-18T14:57:45.569839Z",
     "start_time": "2019-11-18T14:57:21.427039Z"
    }
   },
   "outputs": [],
   "source": [
    "import os\n",
    "import re\n",
    "path1 = \"C:/Users/94883/Desktop/Workshop/text\" \n",
    "files= os.listdir(path1) #open all the txt files in the directory\n",
    "dic = dict()#a dictionary to store the word and file name\n",
    "for file in files:\n",
    "   f = open(\"C:/Users/94883/Desktop/Workshop/text/\"+file)\n",
    "   try:\n",
    "       s = set(re.findall(r'[a-zA-Z]+',f.read().lower()))#find all the word\n",
    "       for i in s:\n",
    "           if(i in dic.keys()):\n",
    "                dic[i].append(file)\n",
    "           else:\n",
    "                dic[i] = []\n",
    "                dic[i].append(file)\n",
    "       f.close()\n",
    "   except:\n",
    "       f.close()\n",
    "       continue"
   ]
  },
  {
   "cell_type": "code",
   "execution_count": null,
   "metadata": {
    "ExecuteTime": {
     "end_time": "2019-11-18T14:57:52.718634Z",
     "start_time": "2019-11-18T14:57:49.092175Z"
    }
   },
   "outputs": [],
   "source": [
    "f = open(\"C:/Users/94883/Desktop/Workshop/big_index.txt\",'w')#write the index to txt file\n",
    "for i in list(dic.keys()):\n",
    "    f.write(i+\"  \"+str(dic[i])+'\\n')"
   ]
  },
  {
   "cell_type": "code",
   "execution_count": null,
   "metadata": {
    "ExecuteTime": {
     "end_time": "2019-11-18T14:57:55.979021Z",
     "start_time": "2019-11-18T14:57:55.974862Z"
    }
   },
   "outputs": [],
   "source": [
    "f.close()"
   ]
  },
  {
   "cell_type": "markdown",
   "metadata": {},
   "source": [
    "Turn the txt file to dictionary"
   ]
  },
  {
   "cell_type": "code",
   "execution_count": 8,
   "metadata": {
    "ExecuteTime": {
     "end_time": "2019-11-20T12:20:04.445615Z",
     "start_time": "2019-11-20T12:19:51.340903Z"
    }
   },
   "outputs": [],
   "source": [
    "f = open(\"C:/Users/94883/Desktop/Workshop/big_index.txt\", 'r')\n",
    "lines = f.readlines()\n",
    "dict = {}\n",
    "for  i in lines:\n",
    "    a = i.split()\n",
    "    list = []\n",
    "    word = \"\"\n",
    "    for j in range(0,len(a)):\n",
    "        if(j==0):\n",
    "            word = a[j]\n",
    "        else:\n",
    "            list.append(a[j].replace(\"'\", \"\").replace(\",\", \"\").replace(\"[\", \"\").replace(\"]\", \"\"))\n",
    "    dict[word] = list\n",
    "f.close()\n",
    "fw = open(\"big_index_dict.txt\",'w+')\n",
    "fw.write(str(dict))      \n",
    "fw.close()"
   ]
  },
  {
   "cell_type": "markdown",
   "metadata": {},
   "source": [
    "Small Files N=30"
   ]
  },
  {
   "cell_type": "code",
   "execution_count": null,
   "metadata": {
    "ExecuteTime": {
     "end_time": "2019-11-20T08:30:16.864766Z",
     "start_time": "2019-11-20T08:30:16.068648Z"
    }
   },
   "outputs": [],
   "source": [
    "import os\n",
    "import re\n",
    "path1 = \"C:/Users/94883/Desktop/Workshop/text\" \n",
    "files= os.listdir(path1) #open all the txt files in the directory\n",
    "dic = dict()#a dictionary to store the word and file name\n",
    "count = 0#a counter to count the file\n",
    "for file in files:\n",
    "   if(count<30):\n",
    "       f = open(\"C:/Users/94883/Desktop/Workshop/text/\"+file)\n",
    "       try:\n",
    "           s = set(re.findall(r'[a-zA-Z]+',f.read().lower()))#find all the word\n",
    "           for i in s:\n",
    "               if(i in dic.keys()):\n",
    "                    dic[i].append(file)\n",
    "               else:\n",
    "                    dic[i] = []\n",
    "                    dic[i].append(file)\n",
    "           f.close()\n",
    "           count += 1\n",
    "       except:\n",
    "           f.close()\n",
    "           count +=1\n",
    "           continue"
   ]
  },
  {
   "cell_type": "code",
   "execution_count": null,
   "metadata": {
    "ExecuteTime": {
     "end_time": "2019-11-20T08:30:17.254477Z",
     "start_time": "2019-11-20T08:30:17.064985Z"
    }
   },
   "outputs": [],
   "source": [
    "f = open(\"C:/Users/94883/Desktop/Workshop/small_index.txt\",'w')#write the index to txt file\n",
    "for i in list(dic.keys()):\n",
    "    f.write(i+\"  \"+str(dic[i])+'\\n')"
   ]
  },
  {
   "cell_type": "code",
   "execution_count": null,
   "metadata": {
    "ExecuteTime": {
     "end_time": "2019-11-20T08:30:17.448959Z",
     "start_time": "2019-11-20T08:30:17.443972Z"
    }
   },
   "outputs": [],
   "source": [
    "f.close()"
   ]
  },
  {
   "cell_type": "markdown",
   "metadata": {},
   "source": [
    "Turn the txt file to dictionary"
   ]
  },
  {
   "cell_type": "code",
   "execution_count": null,
   "metadata": {
    "ExecuteTime": {
     "end_time": "2019-11-20T08:30:36.448058Z",
     "start_time": "2019-11-20T08:30:35.980307Z"
    }
   },
   "outputs": [],
   "source": [
    "f = open(\"C:/Users/94883/Desktop/Workshop/small_index.txt\", 'r')\n",
    "lines = f.readlines()\n",
    "dict = {}\n",
    "for  i in lines:\n",
    "    a = i.split()\n",
    "    list = []\n",
    "    word = \"\"\n",
    "    for j in range(0,len(a)):\n",
    "        if(j==0):\n",
    "            word = a[j]\n",
    "        else:\n",
    "            list.append(a[j].replace(\"'\", \"\").replace(\",\", \"\").replace(\"[\", \"\").replace(\"]\", \"\"))\n",
    "    dict[word] = list\n",
    "f.close()\n",
    "fw = open(\"samll_index_dictionary.txt\",'w+')\n",
    "fw.write(str(dict))      \n",
    "fw.close()"
   ]
  }
 ],
 "metadata": {
  "kernelspec": {
   "display_name": "Python 3",
   "language": "python",
   "name": "python3"
  },
  "language_info": {
   "codemirror_mode": {
    "name": "ipython",
    "version": 3
   },
   "file_extension": ".py",
   "mimetype": "text/x-python",
   "name": "python",
   "nbconvert_exporter": "python",
   "pygments_lexer": "ipython3",
   "version": "3.7.2"
  },
  "latex_envs": {
   "LaTeX_envs_menu_present": true,
   "autoclose": false,
   "autocomplete": true,
   "bibliofile": "biblio.bib",
   "cite_by": "apalike",
   "current_citInitial": 1,
   "eqLabelWithNumbers": true,
   "eqNumInitial": 1,
   "hotkeys": {
    "equation": "Ctrl-E",
    "itemize": "Ctrl-I"
   },
   "labels_anchors": false,
   "latex_user_defs": false,
   "report_style_numbering": false,
   "user_envs_cfg": false
  },
  "nbTranslate": {
   "displayLangs": [
    "*"
   ],
   "hotkey": "alt-t",
   "langInMainMenu": true,
   "sourceLang": "en",
   "targetLang": "fr",
   "useGoogleTranslate": true
  },
  "toc": {
   "base_numbering": 1,
   "nav_menu": {},
   "number_sections": true,
   "sideBar": true,
   "skip_h1_title": false,
   "title_cell": "Table of Contents",
   "title_sidebar": "Contents",
   "toc_cell": false,
   "toc_position": {},
   "toc_section_display": true,
   "toc_window_display": false
  },
  "varInspector": {
   "cols": {
    "lenName": 16,
    "lenType": 16,
    "lenVar": 40
   },
   "kernels_config": {
    "python": {
     "delete_cmd_postfix": "",
     "delete_cmd_prefix": "del ",
     "library": "var_list.py",
     "varRefreshCmd": "print(var_dic_list())"
    },
    "r": {
     "delete_cmd_postfix": ") ",
     "delete_cmd_prefix": "rm(",
     "library": "var_list.r",
     "varRefreshCmd": "cat(var_dic_list()) "
    }
   },
   "types_to_exclude": [
    "module",
    "function",
    "builtin_function_or_method",
    "instance",
    "_Feature"
   ],
   "window_display": false
  }
 },
 "nbformat": 4,
 "nbformat_minor": 2
}
